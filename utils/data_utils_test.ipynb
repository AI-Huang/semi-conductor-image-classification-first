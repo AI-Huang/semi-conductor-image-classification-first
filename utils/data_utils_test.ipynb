{
 "metadata": {
  "language_info": {
   "codemirror_mode": {
    "name": "ipython",
    "version": 3
   },
   "file_extension": ".py",
   "mimetype": "text/x-python",
   "name": "python",
   "nbconvert_exporter": "python",
   "pygments_lexer": "ipython3",
   "version": "3.7.7-final"
  },
  "orig_nbformat": 2,
  "kernelspec": {
   "name": "python3",
   "display_name": "Python 3"
  }
 },
 "nbformat": 4,
 "nbformat_minor": 2,
 "cells": [
  {
   "cell_type": "code",
   "execution_count": 3,
   "metadata": {},
   "outputs": [],
   "source": [
    "#!/usr/bin/env python3\n",
    "# -*- coding: utf-8 -*-\n",
    "# @Date    : Nov-23-20\n",
    "# @Author  : Kelly Hwong (dianhuangkan@gmail.com)"
   ]
  },
  {
   "cell_type": "code",
   "execution_count": 5,
   "metadata": {},
   "outputs": [],
   "source": [
    "import numpy as np\n",
    "import pandas as pd\n",
    "import matplotlib.pyplot as plt\n",
    "from data_utils import data_generators"
   ]
  },
  {
   "cell_type": "code",
   "execution_count": null,
   "metadata": {},
   "outputs": [],
   "source": [
    "# Data path\n",
    "competition_name = \"semi-conductor-image-classification-first\"\n",
    "data_dir = os.path.expanduser(f\"~/.kaggle/competitions/{competition_name}\")\n",
    "\n",
    "# Input parameters\n",
    "SIDE_LENGTH = 224  # default 224\n",
    "IMAGE_WIDTH = IMAGE_HEIGHT = SIDE_LENGTH\n",
    "image_size = (IMAGE_WIDTH, IMAGE_HEIGHT)\n",
    "IMAGE_CHANNELS = 1\n",
    "input_shape = (IMAGE_WIDTH, IMAGE_HEIGHT, IMAGE_CHANNELS)\n",
    "num_classes = 2"
   ]
  },
  {
   "cell_type": "code",
   "execution_count": 7,
   "metadata": {},
   "outputs": [
    {
     "output_type": "stream",
     "name": "stdout",
     "text": [
      "Found 24000 images belonging to 2 classes.\n",
      "Found 6000 images belonging to 2 classes.\n"
     ]
    }
   ],
   "source": [
    "# Data loaders\n",
    "train_generator, validation_generator = data_generators(data_dir, target_size=image_size, batch_size=16, seed=42)"
   ]
  },
  {
   "source": [
    "## Train generator and validation generator"
   ],
   "cell_type": "markdown",
   "metadata": {}
  },
  {
   "cell_type": "code",
   "execution_count": 9,
   "metadata": {},
   "outputs": [
    {
     "output_type": "stream",
     "name": "stdout",
     "text": [
      "<class 'list'>\n6000\n"
     ]
    },
    {
     "output_type": "execute_result",
     "data": {
      "text/plain": [
       "30000"
      ]
     },
     "metadata": {},
     "execution_count": 9
    }
   ],
   "source": [
    "print(type(train_generator.filenames))\n",
    "print(len(validation_generator.filenames))\n",
    "all_files = set(train_generator.filenames + validation_generator.filenames)\n",
    "len(all_files)"
   ]
  },
  {
   "cell_type": "code",
   "execution_count": 11,
   "metadata": {},
   "outputs": [
    {
     "output_type": "stream",
     "name": "stdout",
     "text": [
      "class_indices: {'good_0': 0, 'bad_1': 1}\n"
     ]
    }
   ],
   "source": [
    "class_indices = train_generator.class_indices\n",
    "print(f\"class_indices: {train_generator.class_indices}\")"
   ]
  }
 ]
}