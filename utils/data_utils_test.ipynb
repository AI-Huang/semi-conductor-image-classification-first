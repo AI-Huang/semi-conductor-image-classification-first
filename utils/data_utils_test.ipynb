{
 "metadata": {
  "language_info": {
   "codemirror_mode": {
    "name": "ipython",
    "version": 3
   },
   "file_extension": ".py",
   "mimetype": "text/x-python",
   "name": "python",
   "nbconvert_exporter": "python",
   "pygments_lexer": "ipython3",
   "version": "3.7.7-final"
  },
  "orig_nbformat": 2,
  "kernelspec": {
   "name": "python3",
   "display_name": "Python 3"
  }
 },
 "nbformat": 4,
 "nbformat_minor": 2,
 "cells": [
  {
   "cell_type": "code",
   "execution_count": 8,
   "metadata": {},
   "outputs": [],
   "source": [
    "from data_utils import data_generators"
   ]
  },
  {
   "cell_type": "code",
   "execution_count": 9,
   "metadata": {},
   "outputs": [
    {
     "output_type": "stream",
     "name": "stdout",
     "text": [
      "Found 24000 images belonging to 2 classes.\n",
      "Found 6000 images belonging to 2 classes.\n"
     ]
    }
   ],
   "source": [
    "# Data path\n",
    "competition_name = \"semi-conductor-image-classification-first\"\n",
    "data_dir = os.path.expanduser(\n",
    "    f\"~/.kaggle/competitions/{competition_name}\")\n",
    "\n",
    "# Input parameters\n",
    "SIDE_LENGTH = 224  # default 224\n",
    "IMAGE_WIDTH = IMAGE_HEIGHT = SIDE_LENGTH\n",
    "image_size = (IMAGE_WIDTH, IMAGE_HEIGHT)\n",
    "IMAGE_CHANNELS = 1\n",
    "input_shape = (IMAGE_WIDTH, IMAGE_HEIGHT, IMAGE_CHANNELS)\n",
    "num_classes = 2\n",
    "\n",
    "batch_size = 32\n",
    "\n",
    "# Data loaders\n",
    "train_generator, validation_generator = data_generators(\n",
    "    data_dir, target_size=image_size, batch_size=batch_size)"
   ]
  }
 ]
}