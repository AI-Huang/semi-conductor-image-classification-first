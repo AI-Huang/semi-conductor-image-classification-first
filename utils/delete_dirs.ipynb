{
 "cells": [
  {
   "cell_type": "code",
   "execution_count": 1,
   "metadata": {},
   "outputs": [],
   "source": [
    "#!/usr/bin/env python3\n",
    "# -*- coding: utf-8 -*-\n",
    "# @Date    : Nov-14-20 21:22\n",
    "# @Author  : Kelly Hwong (dianhuangkan@gmail.com)\n",
    "# @Link    : http://example.org\n",
    "import os\n",
    "from dir_utils import delete_experiment_data"
   ]
  },
  {
   "cell_type": "markdown",
   "metadata": {},
   "source": [
    "## Warning!!!⚠\n",
    "\n",
    "删除多余的 ckpt，谨慎操作！\n",
    "\n",
    "在下方 keeps 变量中 **准确** 填入要保留的实验ID"
   ]
  },
  {
   "cell_type": "code",
   "execution_count": 2,
   "metadata": {},
   "outputs": [],
   "source": [
    "model_type = \"ResNet56v2\"\n",
    "white_list = [\n",
    "    \"20201119-162242\",\n",
    "    \"20201119-162240\"\n",
    "]"
   ]
  },
  {
   "cell_type": "code",
   "execution_count": 9,
   "metadata": {},
   "outputs": [],
   "source": [
    "competition_name = \"semi-conductor-image-classification-first\"\n",
    "prefix = os.path.join(\"~\", \"Documents\", \"DeepLearningData\", competition_name)\n",
    "prefix = os.path.expanduser(prefix)"
   ]
  },
  {
   "cell_type": "markdown",
   "metadata": {},
   "source": [
    "## 开始删除！"
   ]
  },
  {
   "cell_type": "code",
   "execution_count": null,
   "metadata": {},
   "outputs": [],
   "source": [
    "exper_ids = os.listdir(os.path.join(prefix, \"logs\", model_type))\n",
    "print(f\"model_type: {model_type}\")\n",
    "print(f\"exper_ids: {exper_ids}\")\n",
    "\n",
    "for exper_id in exper_ids:\n",
    "    if not exper_id in white_list:\n",
    "        delete_experiment_data(model_type, exper_id=exper_id, prefix=prefix)"
   ]
  }
 ],
 "metadata": {
  "kernelspec": {
   "name": "python3",
   "display_name": "Python 3.7.7 64-bit ('tf2': conda)",
   "metadata": {
    "interpreter": {
     "hash": "6217ec1083430fbb69f0f529f559f9d6a9398dfc34178f068ec9884c7c99515e"
    }
   }
  },
  "language_info": {
   "codemirror_mode": {
    "name": "ipython",
    "version": 3
   },
   "file_extension": ".py",
   "mimetype": "text/x-python",
   "name": "python",
   "nbconvert_exporter": "python",
   "pygments_lexer": "ipython3",
   "version": "3.7.7-final"
  }
 },
 "nbformat": 4,
 "nbformat_minor": 4
}