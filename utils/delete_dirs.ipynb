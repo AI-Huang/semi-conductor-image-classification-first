{
 "cells": [
  {
   "cell_type": "code",
   "execution_count": 1,
   "metadata": {},
   "outputs": [],
   "source": [
    "#!/usr/bin/env python3\n",
    "# -*- coding: utf-8 -*-\n",
    "# @Date    : Nov-14-20 21:22\n",
    "# @Author  : Kelly Hwong (dianhuangkan@gmail.com)\n",
    "# @Link    : http://example.org\n",
    "import os\n",
    "import shutil\n",
    "from datetime import datetime"
   ]
  },
  {
   "cell_type": "code",
   "execution_count": 2,
   "metadata": {},
   "outputs": [],
   "source": [
    "# data path\n",
    "competition_name = \"semi-conductor-image-classification-first\"\n",
    "data_dir = os.path.expanduser(\n",
    "    f\"~/.kaggle/competitions/{competition_name}\")"
   ]
  },
  {
   "cell_type": "markdown",
   "metadata": {},
   "source": [
    "## Warning\n",
    "\n",
    "删除多余的 ckpt，谨慎操作！\n",
    "\n",
    "在下方 keeps 变量中 **准确** 填入要保留的实验ID"
   ]
  },
  {
   "cell_type": "code",
   "execution_count": 3,
   "metadata": {},
   "outputs": [],
   "source": [
    "keeps = [\"20201113-221740\", \"20201114-113229\", \"20201114-134323\",\n",
    "         \"20201115-204559-pretrain-True\", \"20201115-204753-pretrain-False\"]\n",
    "\n",
    "model_type = \"ResNet56v2\"\n",
    "# experiment time\n",
    "# date_time = datetime.now().strftime(\"%Y%m%d-%H%M%S\")"
   ]
  },
  {
   "cell_type": "markdown",
   "metadata": {},
   "source": [
    "## 开始删除！"
   ]
  },
  {
   "cell_type": "code",
   "execution_count": 4,
   "metadata": {},
   "outputs": [],
   "source": [
    "ckpt_dirs = os.path.expanduser(\n",
    "    f\"~/Documents/DeepLearningData/{competition_name}/ckpts/{model_type}\")\n",
    "date_times = os.listdir(ckpt_dirs)\n",
    "\n",
    "for date_time in date_times:\n",
    "    if date_time not in keeps:\n",
    "        ckpt_dir = os.path.expanduser(\n",
    "        f\"~/Documents/DeepLearningData/{competition_name}/ckpts/{model_type}/{date_time}\")\n",
    "    #     try:\n",
    "        shutil.rmtree(ckpt_dir, ignore_errors=True)"
   ]
  },
  {
   "cell_type": "code",
   "execution_count": 5,
   "metadata": {},
   "outputs": [
    {
     "output_type": "stream",
     "name": "stdout",
     "text": [
      "removing: C:\\Users\\kellyhwong/Documents/DeepLearningData/semi-conductor-image-classification-first/logs/ResNet56v2/20201119-153133\n"
     ]
    }
   ],
   "source": [
    "log_dirs = os.path.expanduser(\n",
    "    f\"~/Documents/DeepLearningData/{competition_name}/logs/{model_type}\")\n",
    "date_times = os.listdir(log_dirs)\n",
    "\n",
    "for date_time in date_times:\n",
    "    if date_time not in keeps:\n",
    "        log_dir = os.path.expanduser(\n",
    "        f\"~/Documents/DeepLearningData/{competition_name}/logs/{model_type}/{date_time}\")\n",
    "    #     try:\n",
    "        print(f\"removing: {log_dir}\")\n",
    "        shutil.rmtree(log_dir, ignore_errors=True)"
   ]
  }
 ],
 "metadata": {
  "kernelspec": {
   "name": "python3",
   "display_name": "Python 3.7.7 64-bit ('tf2': conda)",
   "metadata": {
    "interpreter": {
     "hash": "6217ec1083430fbb69f0f529f559f9d6a9398dfc34178f068ec9884c7c99515e"
    }
   }
  },
  "language_info": {
   "codemirror_mode": {
    "name": "ipython",
    "version": 3
   },
   "file_extension": ".py",
   "mimetype": "text/x-python",
   "name": "python",
   "nbconvert_exporter": "python",
   "pygments_lexer": "ipython3",
   "version": "3.7.7-final"
  }
 },
 "nbformat": 4,
 "nbformat_minor": 4
}