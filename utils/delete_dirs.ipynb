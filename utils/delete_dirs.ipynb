{
 "cells": [
  {
   "cell_type": "code",
   "execution_count": null,
   "metadata": {},
   "outputs": [],
   "source": [
    "#!/usr/bin/env python3\n",
    "# -*- coding: utf-8 -*-\n",
    "# @Date    : Nov-14-20 21:22\n",
    "# @Author  : Kelly Hwong (dianhuangkan@gmail.com)\n",
    "# @Link    : http://example.org\n",
    "import os\n",
    "from dir_utils import delete_experiment_data, get_exper_suffixes"
   ]
  },
  {
   "cell_type": "markdown",
   "metadata": {},
   "source": [
    "## Warning!!!⚠\n",
    "\n",
    "删除多余的 ckpt，谨慎操作！\n",
    "\n",
    "在下方 keeps 变量中 **准确** 填入要保留的实验ID"
   ]
  },
  {
   "cell_type": "code",
   "execution_count": null,
   "metadata": {},
   "outputs": [],
   "source": [
    "competition_name = \"semi-conductor-image-classification-first\"\n",
    "prefix = os.path.join(\"~\", \"Documents\", \"DeepLearningData\", competition_name)\n",
    "prefix = os.path.expanduser(prefix)"
   ]
  },
  {
   "cell_type": "code",
   "execution_count": null,
   "metadata": {},
   "outputs": [],
   "source": [
    "exper_suffixes = get_exper_suffixes(prefix)\n",
    "exper_suffixes"
   ]
  },
  {
   "cell_type": "markdown",
   "metadata": {},
   "source": [
    "## 开始删除！"
   ]
  },
  {
   "cell_type": "code",
   "execution_count": null,
   "metadata": {},
   "outputs": [],
   "source": [
    "model_type = \"ResNet20v2\"\n",
    "black_list = [\n",
    "    \"ResNet56v2/focal/alpha-0.25/20201127-012912\",\n",
    "    \"ResNet56v2/focal/alpha-0.25/20201127-010750\",\n",
    "    \"ResNet56v2/focal/alpha-0.25/20201127-010658\",\n",
    "    \"ResNet56v2/focal/alpha-0.25/20201127-010347\",\n",
    "    \"ResNet56v2/focal/alpha-0.25/20201127-010250\",\n",
    "    \"ResNet56v2/focal/alpha-0.75/20201127-010140\"\n",
    "]\n",
    "for exper_suffix in black_list:\n",
    "    delete_experiment_data(exper_suffix=exper_suffix, prefix=prefix)\n",
    "exper_suffixes = get_exper_suffixes(prefix)\n",
    "print(f\"Left exper_suffixes: {exper_suffixes}\")"
   ]
  }
 ],
 "metadata": {
  "kernelspec": {
   "name": "python3",
   "display_name": "Python 3"
  },
  "language_info": {
   "codemirror_mode": {
    "name": "ipython",
    "version": 3
   },
   "file_extension": ".py",
   "mimetype": "text/x-python",
   "name": "python",
   "nbconvert_exporter": "python",
   "pygments_lexer": "ipython3",
   "version": "3.7.7-final"
  }
 },
 "nbformat": 4,
 "nbformat_minor": 4
}