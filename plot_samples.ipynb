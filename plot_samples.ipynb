{
 "cells": [
  {
   "cell_type": "code",
   "execution_count": null,
   "metadata": {},
   "outputs": [],
   "source": [
    "import json\n",
    "import numpy as np\n",
    "import pandas as pd\n",
    "import matplotlib.pyplot as plt\n",
    "import tensorflow as tf\n",
    "from tensorflow.keras.preprocessing.image import ImageDataGenerator, load_img\n",
    "\n",
    "from utils.data_utils import data_generators"
   ]
  },
  {
   "cell_type": "code",
   "execution_count": null,
   "metadata": {},
   "outputs": [],
   "source": [
    "print(\"If in eager mode: \", tf.executing_eagerly())\n",
    "print(\"Use tensorflow version 2.\")\n",
    "assert tf.__version__[0] == \"2\""
   ]
  },
  {
   "cell_type": "code",
   "execution_count": null,
   "metadata": {},
   "outputs": [],
   "source": [
    "batch_size = 16\n",
    "test_on_train = True"
   ]
  },
  {
   "cell_type": "code",
   "execution_count": null,
   "metadata": {},
   "outputs": [],
   "source": [
    "# Data path\n",
    "competition_name = \"semi-conductor-image-classification-first\"\n",
    "data_dir = os.path.expanduser(\n",
    "    f\"~/.kaggle/competitions/{competition_name}\")\n",
    "    \n",
    "# Input parameters\n",
    "SIDE_LENGTH = 224  # default 224\n",
    "IMAGE_WIDTH = IMAGE_HEIGHT = SIDE_LENGTH\n",
    "image_size = (IMAGE_WIDTH, IMAGE_HEIGHT)\n",
    "IMAGE_CHANNELS = 1\n",
    "input_shape = (IMAGE_WIDTH, IMAGE_HEIGHT, IMAGE_CHANNELS)\n",
    "num_classes = 2\n",
    "\n",
    "# Data loaders\n",
    "train_generator, validation_generator = data_generators(\n",
    "    data_dir, target_size=image_size, batch_size=batch_size)"
   ]
  },
  {
   "source": [
    "## Prepare testing data"
   ],
   "cell_type": "markdown",
   "metadata": {}
  },
  {
   "cell_type": "code",
   "execution_count": null,
   "metadata": {},
   "outputs": [],
   "source": [
    "print(type(train_generator.filenames))\n",
    "print(len(validation_generator.filenames))\n",
    "all_files = set(train_generator.filenames + validation_generator.filenames)\n",
    "len(all_files)"
   ]
  },
  {
   "cell_type": "code",
   "execution_count": null,
   "metadata": {},
   "outputs": [],
   "source": [
    "# test_df[\"label\"].dtypes\n",
    "# test_df.dtypes\n",
    "label = test_df[\"label\"].to_numpy(dtype=int)\n",
    "label"
   ]
  },
  {
   "cell_type": "code",
   "execution_count": null,
   "metadata": {
    "tags": []
   },
   "outputs": [],
   "source": [
    "train_dir = os.path.join(data_dir, \"train\")\n",
    "if test_on_train:\n",
    "    num_samples = num_train = 30000\n",
    "    label_names = os.listdir(train_dir)\n",
    "    filenames, labels = [], []\n",
    "    for i, label in enumerate(label_names):\n",
    "        files = os.listdir(os.path.join(train_dir, label))\n",
    "        for f in files:\n",
    "            filenames.append(label+\"/\"+f)\n",
    "            labels.append(i)  # 0 or 1\n",
    "    table = np.asarray([filenames, labels])\n",
    "    table = table.T\n",
    "    columns = [\"filename\", \"label\"]\n",
    "    # test on train dataset\n",
    "    test_df = pd.DataFrame(data=table, columns=columns)\n",
    "else:\n",
    "    test_filenames = os.listdir(TEST_DATA_DIR)\n",
    "    test_df = pd.DataFrame({\n",
    "        'filename': test_filenames\n",
    "    })\n",
    "    num_samples = test_df.shape[0]"
   ]
  },
  {
   "cell_type": "code",
   "execution_count": null,
   "metadata": {
    "tags": []
   },
   "outputs": [],
   "source": [
    "print(f\"classes: {classes}\")\n",
    "# l = validation_generator.filenames\n",
    "l = train_generator.filenames\n",
    "count = 0\n",
    "for f in l:\n",
    "    if f.startswith(classes[0]):\n",
    "        count += 1\n",
    "print(f\"count: {count}\")"
   ]
  }
 ],
 "metadata": {
  "kernelspec": {
   "display_name": "Python 3.7.7 64-bit ('tf2': conda)",
   "language": "python",
   "name": "python37764bittf2conda3535eb9e06da45d6b8c1cfa7cd0646f4"
  },
  "language_info": {
   "codemirror_mode": {
    "name": "ipython",
    "version": 3
   },
   "file_extension": ".py",
   "mimetype": "text/x-python",
   "name": "python",
   "nbconvert_exporter": "python",
   "pygments_lexer": "ipython3",
   "version": "3.7.7-final"
  }
 },
 "nbformat": 4,
 "nbformat_minor": 4
}