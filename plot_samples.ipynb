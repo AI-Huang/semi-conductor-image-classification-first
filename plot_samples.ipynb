{
 "cells": [
  {
   "cell_type": "code",
   "execution_count": 4,
   "metadata": {},
   "outputs": [],
   "source": [
    "import numpy as np\n",
    "import pandas as pd\n",
    "import matplotlib.pyplot as plt\n",
    "from utils.data_utils import data_generators"
   ]
  },
  {
   "cell_type": "code",
   "execution_count": 94,
   "metadata": {},
   "outputs": [
    {
     "output_type": "stream",
     "name": "stdout",
     "text": [
      "Found 24000 images belonging to 2 classes.\n",
      "Found 6000 images belonging to 2 classes.\n"
     ]
    }
   ],
   "source": [
    "# Data path\n",
    "competition_name = \"semi-conductor-image-classification-first\"\n",
    "data_dir = os.path.expanduser(\n",
    "    f\"~/.kaggle/competitions/{competition_name}\")\n",
    "    \n",
    "# Input parameters\n",
    "SIDE_LENGTH = 224  # default 224\n",
    "IMAGE_WIDTH = IMAGE_HEIGHT = SIDE_LENGTH\n",
    "image_size = (IMAGE_WIDTH, IMAGE_HEIGHT)\n",
    "IMAGE_CHANNELS = 1\n",
    "input_shape = (IMAGE_WIDTH, IMAGE_HEIGHT, IMAGE_CHANNELS)\n",
    "num_classes = 2\n",
    "\n",
    "# Data loaders\n",
    "train_generator, validation_generator = data_generators(\n",
    "    data_dir, target_size=image_size, batch_size=16, seed=42)"
   ]
  },
  {
   "cell_type": "code",
   "execution_count": 79,
   "metadata": {
    "tags": []
   },
   "outputs": [
    {
     "output_type": "stream",
     "name": "stdout",
     "text": [
      "class_indices: {'good_0': 0, 'bad_1': 1}\n"
     ]
    }
   ],
   "source": [
    "class_indices = train_generator.class_indices\n",
    "print(f\"class_indices: {train_generator.class_indices}\")"
   ]
  },
  {
   "source": [
    "## Dataset statistics"
   ],
   "cell_type": "markdown",
   "metadata": {}
  },
  {
   "cell_type": "code",
   "execution_count": 108,
   "metadata": {},
   "outputs": [
    {
     "output_type": "stream",
     "name": "stdout",
     "text": [
      "Train set size:\n24000\nValidation set size:\n6000\nTotal size:\n30000\n"
     ]
    }
   ],
   "source": [
    "num_train = len(train_generator.filenames)\n",
    "num_val = len(validation_generator.filenames)\n",
    "print(\"Train set size:\")\n",
    "print(num_train)\n",
    "print(\"Validation set size:\")\n",
    "print(num_val)\n",
    "all_files = set(train_generator.filenames + validation_generator.filenames)\n",
    "print(\"Total size:\")\n",
    "print(len(all_files))"
   ]
  },
  {
   "cell_type": "code",
   "execution_count": 107,
   "metadata": {},
   "outputs": [
    {
     "output_type": "execute_result",
     "data": {
      "text/plain": [
       "21600"
      ]
     },
     "metadata": {},
     "execution_count": 107
    }
   ],
   "source": [
    "def is_good_0(f):\n",
    "    return 1 if f.startswith(\"good_0\") else 0"
   ]
  },
  {
   "cell_type": "code",
   "execution_count": 111,
   "metadata": {},
   "outputs": [],
   "source": [
    "num_good_in_train = sum([is_good_0(_) for _ in train_generator.filenames])\n",
    "num_bad_in_train = num_train - num_good_in_train"
   ]
  },
  {
   "cell_type": "code",
   "execution_count": 112,
   "metadata": {},
   "outputs": [
    {
     "output_type": "stream",
     "name": "stdout",
     "text": [
      "21600 2400\n"
     ]
    }
   ],
   "source": [
    "print(num_good_in_train, num_bad_in_train)"
   ]
  },
  {
   "cell_type": "code",
   "execution_count": 113,
   "metadata": {},
   "outputs": [],
   "source": [
    "num_good_in_val = sum([is_good_0(_) for _ in validation_generator.filenames])\n",
    "num_bad_in_val = num_val - num_good_in_val"
   ]
  },
  {
   "cell_type": "code",
   "execution_count": 114,
   "metadata": {},
   "outputs": [
    {
     "output_type": "stream",
     "name": "stdout",
     "text": [
      "5400 600\n"
     ]
    }
   ],
   "source": [
    "print(num_good_in_val, num_bad_in_val)"
   ]
  },
  {
   "source": [
    "## Data visualization"
   ],
   "cell_type": "markdown",
   "metadata": {}
  },
  {
   "cell_type": "code",
   "execution_count": null,
   "metadata": {},
   "outputs": [],
   "source": []
  }
 ],
 "metadata": {
  "kernelspec": {
   "name": "python3",
   "display_name": "Python 3.7.7 64-bit ('tf2': conda)",
   "metadata": {
    "interpreter": {
     "hash": "6217ec1083430fbb69f0f529f559f9d6a9398dfc34178f068ec9884c7c99515e"
    }
   }
  },
  "language_info": {
   "codemirror_mode": {
    "name": "ipython",
    "version": 3
   },
   "file_extension": ".py",
   "mimetype": "text/x-python",
   "name": "python",
   "nbconvert_exporter": "python",
   "pygments_lexer": "ipython3",
   "version": "3.7.7-final"
  }
 },
 "nbformat": 4,
 "nbformat_minor": 4
}