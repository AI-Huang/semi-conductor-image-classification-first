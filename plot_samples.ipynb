{
 "cells": [
  {
   "cell_type": "code",
   "execution_count": 12,
   "metadata": {},
   "outputs": [],
   "source": [
    "import json\n",
    "import numpy as np\n",
    "import pandas as pd\n",
    "import matplotlib as mpl\n",
    "import matplotlib.pyplot as plt\n",
    "from tensorflow.keras.preprocessing.image import ImageDataGenerator, load_img"
   ]
  },
  {
   "cell_type": "code",
   "execution_count": 13,
   "metadata": {},
   "outputs": [],
   "source": [
    "from options import Options\n",
    "options = Options(batch_size=16)"
   ]
  },
  {
   "cell_type": "code",
   "execution_count": 14,
   "metadata": {},
   "outputs": [],
   "source": [
    "# constants\n",
    "IF_DATA_AUGMENTATION = True\n",
    "NUM_CLASSES = 2\n",
    "IMAGE_WIDTH = IMAGE_HEIGHT = 224\n",
    "IMAGE_SIZE = (IMAGE_WIDTH, IMAGE_HEIGHT)\n",
    "IMAGE_CHANNELS = 1\n",
    "INPUT_SHAPE = [IMAGE_WIDTH, IMAGE_HEIGHT, IMAGE_CHANNELS]"
   ]
  },
  {
   "cell_type": "code",
   "execution_count": null,
   "metadata": {},
   "outputs": [],
   "source": []
  },
  {
   "cell_type": "code",
   "execution_count": 15,
   "metadata": {
    "tags": []
   },
   "outputs": [
    {
     "output_type": "stream",
     "name": "stdout",
     "text": "Load Config ...\nROOT_PATH: /Volumes/MacSDCard/DeepLearningData/semi-conductor-image-classification-first\nROOT_PATH: /Volumes/MacSDCard/DeepLearningData/semi-conductor-image-classification-first\nTRAIN_DATA_DIR: /Volumes/MacSDCard/DeepLearningData/semi-conductor-image-classification-first/data/origin/train/\n"
    }
   ],
   "source": [
    "print(\"Load Config ...\")\n",
    "with open('./config/config_mac.json', 'r') as f:\n",
    "    CONFIG = json.load(f)\n",
    "ROOT_PATH = CONFIG[\"ROOT_PATH\"]\n",
    "print(f\"ROOT_PATH: {ROOT_PATH}\")\n",
    "ROOT_PATH = os.path.expanduser(ROOT_PATH)\n",
    "print(f\"ROOT_PATH: {ROOT_PATH}\")\n",
    "TRAIN_DATA_DIR = os.path.join(ROOT_PATH, CONFIG[\"TRAIN_DATA_DIR\"])\n",
    "print(f\"TRAIN_DATA_DIR: {TRAIN_DATA_DIR}\")"
   ]
  },
  {
   "cell_type": "code",
   "execution_count": 16,
   "metadata": {
    "tags": []
   },
   "outputs": [
    {
     "output_type": "stream",
     "name": "stdout",
     "text": "Using real-time data augmentation.\nTraining Generator...\nFound 24000 images belonging to 2 classes.\nValidation Generator...\nFound 6000 images belonging to 2 classes.\nTrain class_indices:  {'good_0': 0, 'bad_1': 1}\nVal class_indices:  {'good_0': 0, 'bad_1': 1}\n"
    }
   ],
   "source": [
    "classes = [\"good_0\", \"bad_1\"]\n",
    "\n",
    "print('Using real-time data augmentation.')\n",
    "print(\"Training Generator...\")\n",
    "train_datagen = ImageDataGenerator(\n",
    "    validation_split=0.2,\n",
    "    rescale=1./255,\n",
    "    rotation_range=15,\n",
    "    shear_range=0.1,\n",
    "    zoom_range=0.2,\n",
    "    horizontal_flip=True,\n",
    "    width_shift_range=0.1,\n",
    "    height_shift_range=0.1\n",
    ")\n",
    "\n",
    "train_generator = train_datagen.flow_from_directory(\n",
    "    TRAIN_DATA_DIR,\n",
    "    subset='training',\n",
    "    target_size=IMAGE_SIZE,\n",
    "    classes=classes,\n",
    "    color_mode=\"grayscale\",\n",
    "    class_mode='categorical',\n",
    "    batch_size=options.batch_size,\n",
    "    shuffle=True,\n",
    "    seed=42\n",
    ")\n",
    "\n",
    "print(\"Validation Generator...\")\n",
    "valid_datagen = ImageDataGenerator(validation_split=0.2, rescale=1./255)\n",
    "validation_generator = valid_datagen.flow_from_directory(\n",
    "    TRAIN_DATA_DIR,\n",
    "    subset='validation',\n",
    "    target_size=IMAGE_SIZE,\n",
    "    classes=classes,\n",
    "    color_mode=\"grayscale\",\n",
    "    class_mode='categorical',\n",
    "    batch_size=options.batch_size,\n",
    "    shuffle=True,\n",
    "    seed=42\n",
    ")\n",
    "\n",
    "print(\"Train class_indices: \", train_generator.class_indices)\n",
    "print(\"Val class_indices: \", validation_generator.class_indices)"
   ]
  },
  {
   "cell_type": "code",
   "execution_count": 20,
   "metadata": {},
   "outputs": [
    {
     "output_type": "execute_result",
     "data": {
      "text/plain": "24000"
     },
     "metadata": {},
     "execution_count": 20
    }
   ],
   "source": [
    "len(train_generator.filenames)"
   ]
  },
  {
   "cell_type": "code",
   "execution_count": 21,
   "metadata": {},
   "outputs": [
    {
     "output_type": "execute_result",
     "data": {
      "text/plain": "6000"
     },
     "metadata": {},
     "execution_count": 21
    }
   ],
   "source": [
    "len(validation_generator.filenames)"
   ]
  },
  {
   "cell_type": "code",
   "execution_count": 27,
   "metadata": {
    "tags": []
   },
   "outputs": [
    {
     "output_type": "stream",
     "name": "stdout",
     "text": "classes: ['good_0', 'bad_1']\ncount: 21600\n"
    }
   ],
   "source": [
    "print(f\"classes: {classes}\")\n",
    "# l = validation_generator.filenames\n",
    "l = train_generator.filenames\n",
    "count = 0\n",
    "for f in l:\n",
    "    if f.startswith(classes[0]):\n",
    "        count += 1\n",
    "print(f\"count: {count}\")"
   ]
  }
 ],
 "metadata": {
  "kernelspec": {
   "display_name": "Python 3.7.4 64-bit",
   "language": "python",
   "name": "python37464bit1f3025c149864e25af69bd18d8589ad3"
  },
  "language_info": {
   "codemirror_mode": {
    "name": "ipython",
    "version": 3
   },
   "file_extension": ".py",
   "mimetype": "text/x-python",
   "name": "python",
   "nbconvert_exporter": "python",
   "pygments_lexer": "ipython3",
   "version": "3.7.4-final"
  }
 },
 "nbformat": 4,
 "nbformat_minor": 4
}